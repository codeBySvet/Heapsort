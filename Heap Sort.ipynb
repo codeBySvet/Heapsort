{
 "cells": [
  {
   "cell_type": "markdown",
   "id": "dbcc9ebc",
   "metadata": {},
   "source": [
    "# Heap Sort"
   ]
  },
  {
   "cell_type": "markdown",
   "id": "d21daaef",
   "metadata": {},
   "source": [
    "## Lists in Python"
   ]
  },
  {
   "cell_type": "code",
   "execution_count": 1,
   "id": "37028f11",
   "metadata": {},
   "outputs": [],
   "source": [
    "# Lists in python can be created with squar bracket notation.\n",
    "L = [1, 2, 3, \"Hello World!\", None, True]"
   ]
  },
  {
   "cell_type": "code",
   "execution_count": 2,
   "id": "1cd48f6d",
   "metadata": {},
   "outputs": [
    {
     "data": {
      "text/plain": [
       "True"
      ]
     },
     "execution_count": 2,
     "metadata": {},
     "output_type": "execute_result"
    }
   ],
   "source": [
    "# They are zeron indexe, as usual.\n",
    "L[5]"
   ]
  },
  {
   "cell_type": "code",
   "execution_count": 3,
   "id": "261943be",
   "metadata": {},
   "outputs": [
    {
     "data": {
      "text/plain": [
       "[1, 2, 3, 4]"
      ]
     },
     "execution_count": 3,
     "metadata": {},
     "output_type": "execute_result"
    }
   ],
   "source": [
    "# Create lists with the list() function.\n",
    "list({1, 2, 3, 4, 4, 4})"
   ]
  },
  {
   "cell_type": "code",
   "execution_count": 4,
   "id": "8f80a531",
   "metadata": {},
   "outputs": [
    {
     "data": {
      "text/plain": [
       "True"
      ]
     },
     "execution_count": 4,
     "metadata": {},
     "output_type": "execute_result"
    }
   ],
   "source": [
    "# Using negative indexes on lists.\n",
    "L[-1]"
   ]
  },
  {
   "cell_type": "code",
   "execution_count": 5,
   "id": "ea721a21",
   "metadata": {},
   "outputs": [
    {
     "data": {
      "text/plain": [
       "'Hello World!'"
      ]
     },
     "execution_count": 5,
     "metadata": {},
     "output_type": "execute_result"
    }
   ],
   "source": [
    "# Third last element.\n",
    "L[-3]"
   ]
  },
  {
   "cell_type": "code",
   "execution_count": 6,
   "id": "a7a74e4f",
   "metadata": {},
   "outputs": [
    {
     "data": {
      "text/plain": [
       "[0, 2, 4, 6]"
      ]
     },
     "execution_count": 6,
     "metadata": {},
     "output_type": "execute_result"
    }
   ],
   "source": [
    "# In-built function for creating iterables.\n",
    "\n",
    "# 1 parameter used in range() = assumes starting at 0 and assumes iterating by 1 (assume 0 , parameter, assume 1)\n",
    "# 2 parameter used in range() = assumes iterating by 1 (parameter , parameter, assume 1)\n",
    "list(range(0,7,2))"
   ]
  },
  {
   "cell_type": "code",
   "execution_count": 7,
   "id": "ddc6459d",
   "metadata": {},
   "outputs": [
    {
     "data": {
      "text/plain": [
       "[0, 1, 2, 3, 4, 5, 6, 7, 8, 9, 10, 11, 12, 13, 14, 15, 16, 17, 18, 19]"
      ]
     },
     "execution_count": 7,
     "metadata": {},
     "output_type": "execute_result"
    }
   ],
   "source": [
    "# In-built function for creating iterables.\n",
    "L = list(range(20))\n",
    "L"
   ]
  },
  {
   "cell_type": "code",
   "execution_count": 8,
   "id": "a96944cd",
   "metadata": {},
   "outputs": [
    {
     "data": {
      "text/plain": [
       "[2, 6]"
      ]
     },
     "execution_count": 8,
     "metadata": {},
     "output_type": "execute_result"
    }
   ],
   "source": [
    "# List slicing.\n",
    "\n",
    "# when slicing: the first parameter is the starting element, the second parameter is the ending element,\n",
    "# the third number is the incrementing amount.\n",
    "L[2:7:4]"
   ]
  },
  {
   "cell_type": "code",
   "execution_count": 9,
   "id": "7b6e2acf",
   "metadata": {},
   "outputs": [
    {
     "data": {
      "text/plain": [
       "[1, 2, 3, 4, 5, 6, 7, 8, 9, 10, 11, 12, 13, 14, 15, 16, 17, 18, 19]"
      ]
     },
     "execution_count": 9,
     "metadata": {},
     "output_type": "execute_result"
    }
   ],
   "source": [
    "# List slicing.\n",
    "L[1:]"
   ]
  },
  {
   "cell_type": "code",
   "execution_count": 10,
   "id": "416e2b38",
   "metadata": {},
   "outputs": [
    {
     "data": {
      "text/plain": [
       "[0]"
      ]
     },
     "execution_count": 10,
     "metadata": {},
     "output_type": "execute_result"
    }
   ],
   "source": [
    "# List slicing.\n",
    "L[:1]"
   ]
  },
  {
   "cell_type": "code",
   "execution_count": 11,
   "id": "278ef60e",
   "metadata": {},
   "outputs": [
    {
     "data": {
      "text/plain": [
       "[5, 6, 7, 8, 9, 10, 11, 12, 13, 14, 15, 16, 17, 18, 19, 0, 1, 2, 3, 4]"
      ]
     },
     "execution_count": 11,
     "metadata": {},
     "output_type": "execute_result"
    }
   ],
   "source": [
    "# Quick way to cycle the list to the left. The + operater first concatonates the two lists. \n",
    "# and then notice: the numbers get wrapped around at the right end.\n",
    "i = 5\n",
    "L[i:] + L[:i]"
   ]
  },
  {
   "cell_type": "code",
   "execution_count": 12,
   "id": "36f6dd49",
   "metadata": {},
   "outputs": [],
   "source": [
    "# Tuples. (Immutable - cant change values within the tuple).\n",
    "T = (1, 2, 3, 4)"
   ]
  },
  {
   "cell_type": "code",
   "execution_count": 13,
   "id": "81dcd10c",
   "metadata": {},
   "outputs": [
    {
     "data": {
      "text/plain": [
       "1"
      ]
     },
     "execution_count": 13,
     "metadata": {},
     "output_type": "execute_result"
    }
   ],
   "source": [
    "# Select elements.\n",
    "T[0]"
   ]
  },
  {
   "cell_type": "code",
   "execution_count": 14,
   "id": "56b3e12d",
   "metadata": {},
   "outputs": [
    {
     "data": {
      "text/plain": [
       "(4,)"
      ]
     },
     "execution_count": 14,
     "metadata": {},
     "output_type": "execute_result"
    }
   ],
   "source": [
    "# Slice elements.\n",
    "T[3:]"
   ]
  },
  {
   "cell_type": "code",
   "execution_count": 15,
   "id": "05a7a1f2",
   "metadata": {},
   "outputs": [],
   "source": [
    "# Cannot assign new value. Tuples are immutable.\n",
    "# T[2]= 100"
   ]
  },
  {
   "cell_type": "code",
   "execution_count": 16,
   "id": "5412a84f",
   "metadata": {},
   "outputs": [
    {
     "data": {
      "text/plain": [
       "(1, 2, 3, 4)"
      ]
     },
     "execution_count": 16,
     "metadata": {},
     "output_type": "execute_result"
    }
   ],
   "source": [
    "# Tuples are created with commas, as opposed to round brackets like above. Brackets are not necessary.\n",
    "T = 1, 2, 3, 4\n",
    "T"
   ]
  },
  {
   "cell_type": "code",
   "execution_count": 17,
   "id": "5142a855",
   "metadata": {},
   "outputs": [],
   "source": [
    "# You can use tuples for assignment.\n",
    "a, b = 3, 4\n"
   ]
  },
  {
   "cell_type": "code",
   "execution_count": 18,
   "id": "5956b0a4",
   "metadata": {},
   "outputs": [
    {
     "data": {
      "text/plain": [
       "3"
      ]
     },
     "execution_count": 18,
     "metadata": {},
     "output_type": "execute_result"
    }
   ],
   "source": [
    "a"
   ]
  },
  {
   "cell_type": "code",
   "execution_count": 19,
   "id": "91c66e05",
   "metadata": {},
   "outputs": [
    {
     "data": {
      "text/plain": [
       "4"
      ]
     },
     "execution_count": 19,
     "metadata": {},
     "output_type": "execute_result"
    }
   ],
   "source": [
    "b"
   ]
  },
  {
   "cell_type": "code",
   "execution_count": 20,
   "id": "f271c0ab",
   "metadata": {},
   "outputs": [],
   "source": [
    "# Nice trick for swapping two values.\n",
    "a,b = b,a"
   ]
  },
  {
   "cell_type": "code",
   "execution_count": 21,
   "id": "0b93cdf1",
   "metadata": {},
   "outputs": [
    {
     "data": {
      "text/plain": [
       "4"
      ]
     },
     "execution_count": 21,
     "metadata": {},
     "output_type": "execute_result"
    }
   ],
   "source": [
    "a"
   ]
  },
  {
   "cell_type": "code",
   "execution_count": 22,
   "id": "c11d8a3f",
   "metadata": {},
   "outputs": [
    {
     "data": {
      "text/plain": [
       "3"
      ]
     },
     "execution_count": 22,
     "metadata": {},
     "output_type": "execute_result"
    }
   ],
   "source": [
    "b"
   ]
  },
  {
   "cell_type": "code",
   "execution_count": 23,
   "id": "4c26911f",
   "metadata": {},
   "outputs": [
    {
     "data": {
      "text/plain": [
       "[0, 1, 2, 3, 4, 5, 6, 7, 8, 9]"
      ]
     },
     "execution_count": 23,
     "metadata": {},
     "output_type": "execute_result"
    }
   ],
   "source": [
    "# List of intergers.\n",
    "L = list(range(10))\n",
    "L"
   ]
  },
  {
   "cell_type": "code",
   "execution_count": 24,
   "id": "e6777ee7",
   "metadata": {},
   "outputs": [
    {
     "data": {
      "text/plain": [
       "[0, 1, 8, 27, 64, 125, 216, 343, 512, 729]"
      ]
     },
     "execution_count": 24,
     "metadata": {},
     "output_type": "execute_result"
    }
   ],
   "source": [
    "# List comprehension.\n",
    "[i**3 for i in L]"
   ]
  },
  {
   "cell_type": "code",
   "execution_count": 25,
   "id": "63cfb1f0",
   "metadata": {},
   "outputs": [
    {
     "data": {
      "text/plain": [
       "[9, 8, 7, 6, 5, 4, 3, 2, 1, 0]"
      ]
     },
     "execution_count": 25,
     "metadata": {},
     "output_type": "execute_result"
    }
   ],
   "source": [
    "# Curve ball. This is normal slicing where the first and second parameters default to 0. Iterating by -1\n",
    "L[::-1]"
   ]
  },
  {
   "cell_type": "markdown",
   "id": "b86af37f",
   "metadata": {},
   "source": [
    "<br>\n",
    "\n",
    "# Bubble Sort\n",
    "\n",
    "***"
   ]
  },
  {
   "cell_type": "code",
   "execution_count": 26,
   "id": "311ef784",
   "metadata": {},
   "outputs": [],
   "source": [
    "# Importing module from standard library.\n",
    "import random "
   ]
  },
  {
   "cell_type": "code",
   "execution_count": 27,
   "id": "f48f5eec",
   "metadata": {},
   "outputs": [
    {
     "data": {
      "text/plain": [
       "[1, 2, 3, 4, 5, 6, 7, 8, 9, 10]"
      ]
     },
     "execution_count": 27,
     "metadata": {},
     "output_type": "execute_result"
    }
   ],
   "source": [
    "# Create a list of integers.\n",
    "L = list(range(1,11))\n",
    "L"
   ]
  },
  {
   "cell_type": "code",
   "execution_count": 28,
   "id": "b988b267",
   "metadata": {},
   "outputs": [],
   "source": [
    "# Shuffle the list.\n",
    "random.shuffle(L)"
   ]
  },
  {
   "cell_type": "code",
   "execution_count": 29,
   "id": "7b1d3286",
   "metadata": {},
   "outputs": [
    {
     "data": {
      "text/plain": [
       "[3, 6, 5, 4, 8, 9, 2, 1, 10, 7]"
      ]
     },
     "execution_count": 29,
     "metadata": {},
     "output_type": "execute_result"
    }
   ],
   "source": [
    "L"
   ]
  },
  {
   "cell_type": "code",
   "execution_count": 30,
   "id": "c27439d4",
   "metadata": {},
   "outputs": [],
   "source": [
    "# Bubble sort.\n",
    "\n",
    "# Keep track of number of comparisons.\n",
    "no_comparisons = 0\n",
    "\n",
    "# Bubble every (biggest) element up\n",
    "for j in range(len(L)-1):\n",
    "    # Keep track of any swaps.\n",
    "    swapped = False;\n",
    "    # Compare all elements that are side by side.\n",
    "    for i in range(len(L)-1):\n",
    "        # Compare the ith element with the (i+1)th.\n",
    "        if L[i] > L[i+1]:\n",
    "            # Swap elements.\n",
    "            L[i], L[i+1] = L[i+1], L[i]\n",
    "            # Keep track of the swap.\n",
    "            swapped = True\n",
    "        # Add a compariosn.\n",
    "        no_comparisons = no_comparisons +1\n",
    "    # Quit if we didn't make any swaps.\n",
    "    if not swapped:\n",
    "        break"
   ]
  },
  {
   "cell_type": "code",
   "execution_count": 31,
   "id": "0f68787b",
   "metadata": {},
   "outputs": [
    {
     "data": {
      "text/plain": [
       "[1, 2, 3, 4, 5, 6, 7, 8, 9, 10]"
      ]
     },
     "execution_count": 31,
     "metadata": {},
     "output_type": "execute_result"
    }
   ],
   "source": [
    "L"
   ]
  },
  {
   "cell_type": "code",
   "execution_count": 32,
   "id": "f52a4e7f",
   "metadata": {
    "scrolled": true
   },
   "outputs": [
    {
     "data": {
      "text/plain": [
       "72"
      ]
     },
     "execution_count": 32,
     "metadata": {},
     "output_type": "execute_result"
    }
   ],
   "source": [
    " no_comparisons"
   ]
  },
  {
   "cell_type": "code",
   "execution_count": 33,
   "id": "5ab5860c",
   "metadata": {},
   "outputs": [],
   "source": [
    "# Bubble sort as a function\n",
    "\n",
    "def bubble_sort(L):\n",
    "\n",
    "    # Keep track of number of comparisons.\n",
    "    no_comparisons = 0\n",
    "\n",
    "    # Bubble every (biggest) element up\n",
    "    for j in range(len(L)-1):\n",
    "        # Keep track of any swaps.\n",
    "        swapped = False;\n",
    "        # Compare all elements that are side by side.\n",
    "        for i in range(len(L)-1 - j):\n",
    "            # Compare the ith element with the (i+1)th.\n",
    "            if L[i] > L[i+1]:\n",
    "                # Swap elements.\n",
    "                L[i], L[i+1] = L[i+1], L[i]\n",
    "                # Keep track of the swap.\n",
    "                swapped = True\n",
    "            # Add a compariosn.\n",
    "            no_comparisons = no_comparisons +1\n",
    "        # Quit if we didn't make any swaps.\n",
    "        if not swapped:\n",
    "            break\n",
    "    #Return the number of comparisons made\n",
    "    return no_comparisons"
   ]
  },
  {
   "cell_type": "code",
   "execution_count": 34,
   "id": "e435bfdf",
   "metadata": {},
   "outputs": [
    {
     "data": {
      "text/plain": [
       "[2, 9, 8, 5, 1, 4, 7, 10, 6, 3]"
      ]
     },
     "execution_count": 34,
     "metadata": {},
     "output_type": "execute_result"
    }
   ],
   "source": [
    "# Create a list.\n",
    "L = list(range(1,11))\n",
    "\n",
    "# Shuffle it\n",
    "random.shuffle(L)\n",
    "\n",
    "#Look at it.\n",
    "L"
   ]
  },
  {
   "cell_type": "code",
   "execution_count": 35,
   "id": "007f398d",
   "metadata": {},
   "outputs": [
    {
     "data": {
      "text/plain": [
       "44"
      ]
     },
     "execution_count": 35,
     "metadata": {},
     "output_type": "execute_result"
    }
   ],
   "source": [
    "# The function works on L in place.\n",
    "bubble_sort(L)"
   ]
  },
  {
   "cell_type": "code",
   "execution_count": 36,
   "id": "37a63e6c",
   "metadata": {},
   "outputs": [
    {
     "data": {
      "text/plain": [
       "[1, 2, 3, 4, 5, 6, 7, 8, 9, 10]"
      ]
     },
     "execution_count": 36,
     "metadata": {},
     "output_type": "execute_result"
    }
   ],
   "source": [
    "L"
   ]
  },
  {
   "cell_type": "code",
   "execution_count": 37,
   "id": "2b6a8181",
   "metadata": {},
   "outputs": [
    {
     "data": {
      "text/plain": [
       "9"
      ]
     },
     "execution_count": 37,
     "metadata": {},
     "output_type": "execute_result"
    }
   ],
   "source": [
    "# Once the list is sorted - bubble sort is O(n)\n",
    "bubble_sort(L)"
   ]
  },
  {
   "cell_type": "code",
   "execution_count": 38,
   "id": "a7065034",
   "metadata": {},
   "outputs": [
    {
     "data": {
      "text/plain": [
       "45"
      ]
     },
     "execution_count": 38,
     "metadata": {},
     "output_type": "execute_result"
    }
   ],
   "source": [
    "# The worst case for bubble sort.\n",
    "bubble_sort(L[::-1])"
   ]
  },
  {
   "cell_type": "markdown",
   "id": "a3d5b276",
   "metadata": {},
   "source": [
    "<br>\n",
    "\n",
    "# Heap Sort\n",
    "\n",
    "***"
   ]
  },
  {
   "cell_type": "markdown",
   "id": "4d85ca34",
   "metadata": {},
   "source": [
    "#### Transplaneted from Wikipedia"
   ]
  },
  {
   "cell_type": "code",
   "execution_count": null,
   "id": "c4f442df",
   "metadata": {},
   "outputs": [],
   "source": []
  },
  {
   "cell_type": "code",
   "execution_count": null,
   "id": "7f392c79",
   "metadata": {},
   "outputs": [],
   "source": []
  },
  {
   "cell_type": "code",
   "execution_count": 39,
   "id": "7c43180f",
   "metadata": {},
   "outputs": [],
   "source": [
    "def siftDown(L, parent, end): \n",
    "    \n",
    "     #keep track of the number of comparisons\n",
    "    no_comparisons=0\n",
    "    \n",
    "    # While parent is actually a parent(has at least a left child).\n",
    "    while (2 * parent + 1) <= end:\n",
    "        \n",
    "        # index of left child and right child\n",
    "        leftChild = (2 * parent + 1)\n",
    "        rightChild = (2 * parent + 2)\n",
    "        \n",
    "        # Assume the parent is larger than the children\n",
    "        swap = parent\n",
    "            \n",
    "            \n",
    "        # Is the parent smaller than the left child\n",
    "        if L[swap] < L[leftChild]:\n",
    "            # Then swap is set to index of left child\n",
    "            swap = leftChild\n",
    "            # Increment no_comparisons\n",
    "            no_comparisons = no_comparisons + 1\n",
    "        # Check if right child exists and is smaller than L[swap].\n",
    "        if rightChild <= end and L[swap] < L[rightChild]:\n",
    "            # Then swap is set of index of right child.\n",
    "            swap = rightChild\n",
    "            # Increment no_comparisons\n",
    "            no_comparisons = no_comparisons + 1\n",
    "            \n",
    "        # We have a max heap if the parent is bigger than the children\n",
    "        if swap == parent:\n",
    "            break\n",
    "        else: \n",
    "            # Swap the parent with the bigger child.\n",
    "            L[parent], L[swap] = L[swap], L[parent]\n",
    "            # Set parent to bigger childs index\n",
    "            parent = swap\n",
    "            \n",
    "    # return number of comparisons.\n",
    "    return no_comparisons"
   ]
  },
  {
   "cell_type": "code",
   "execution_count": 40,
   "id": "6df5edeb",
   "metadata": {},
   "outputs": [],
   "source": [
    "def heapsort(L):\n",
    "    \"\"\"Sorts the list L in-place using Heap Sort.\"\"\"\n",
    "    \n",
    "    #keep track of the number of comparisons\n",
    "    no_comparisons=0\n",
    "    \n",
    "    #Turn L list into a max heap\n",
    "    # Index of the last element. -1 to compensate for how len() calculates the list length(it counts an extra element)\n",
    "    last_element = len(L) - 1\n",
    "    # find the last parent. The required forumla to locate any given parent: -1 then /2\n",
    "    last_parent = (last_element - 1) // 2\n",
    "    # Loop backwards through all parents. Meaning of arguments: (Start at last parent, keep going until -1,\n",
    "    # incriments of -1)\n",
    "    for parent in range(last_parent, -1, -1): \n",
    "        #Sift down\n",
    "        no_comparisons = no_comparisons + siftDown(L, parent, last_element)\n",
    "     \n",
    "    \n",
    "    \n",
    "    # Segregate the list L into two parts:\n",
    "    #    1. L[:end] is a max heap\n",
    "    #    2. each element beyond end is greater than everything before it\n",
    "    #\n",
    "    # While there are still elements int the heap.\n",
    "    for end in range(last_element, 0, -1):\n",
    "        # Swap the element at index 0 with the element at index end.\n",
    "        L[0], L[end]= L[end], L[0]\n",
    "        # Move the end forward.\n",
    "        no_comparisons= no_comparisons + siftDown(L, 0, end - 1)\n",
    "\n",
    "    # Return the number of comparisons\n",
    "    return no_comparisons"
   ]
  },
  {
   "cell_type": "markdown",
   "id": "39e16c8d",
   "metadata": {},
   "source": [
    "<br>\n",
    "\n",
    "## Comparing Algorithems\n",
    "\n",
    "***"
   ]
  },
  {
   "cell_type": "code",
   "execution_count": 56,
   "id": "3e276531",
   "metadata": {},
   "outputs": [
    {
     "data": {
      "text/plain": [
       "([1, 2, 3, 7, 17, 19, 25, 36, 100], 12)"
      ]
     },
     "execution_count": 56,
     "metadata": {},
     "output_type": "execute_result"
    }
   ],
   "source": [
    "# Perform heap sort, show number of comparisons\n",
    "L = [19, 100, 36, 25, 3, 17, 7, 1, 2]\n",
    "no_comparisons = heapsort(L)\n",
    "L, no_comparisons"
   ]
  },
  {
   "cell_type": "code",
   "execution_count": 57,
   "id": "f8f18388",
   "metadata": {},
   "outputs": [
    {
     "data": {
      "text/plain": [
       "([1, 2, 3, 7, 17, 19, 25, 36, 100], 36)"
      ]
     },
     "execution_count": 57,
     "metadata": {},
     "output_type": "execute_result"
    }
   ],
   "source": [
    "# Perform bubble sort, show number of comparisons\n",
    "L = [19, 100, 36, 25, 3, 17, 7, 1, 2]\n",
    "no_comparisons = bubble_sort(L)\n",
    "L, no_comparisons"
   ]
  },
  {
   "cell_type": "code",
   "execution_count": null,
   "id": "6814d283",
   "metadata": {},
   "outputs": [],
   "source": []
  },
  {
   "cell_type": "code",
   "execution_count": 59,
   "id": "f3f5f5d1",
   "metadata": {},
   "outputs": [
    {
     "name": "stdout",
     "output_type": "stream",
     "text": [
      "(0, 1, 2, 3, 4)\t4\t8\n",
      "(0, 1, 2, 4, 3)\t7\t9\n",
      "(0, 1, 3, 2, 4)\t7\t7\n",
      "(0, 1, 3, 4, 2)\t9\t8\n",
      "(0, 1, 4, 2, 3)\t7\t8\n",
      "(0, 1, 4, 3, 2)\t9\t6\n",
      "(0, 2, 1, 3, 4)\t7\t6\n",
      "(0, 2, 1, 4, 3)\t7\t7\n",
      "(0, 2, 3, 1, 4)\t9\t8\n",
      "(0, 2, 3, 4, 1)\t10\t6\n",
      "(0, 2, 4, 1, 3)\t9\t6\n",
      "(0, 2, 4, 3, 1)\t10\t7\n",
      "(0, 3, 1, 2, 4)\t7\t7\n",
      "(0, 3, 1, 4, 2)\t9\t5\n",
      "(0, 3, 2, 1, 4)\t9\t9\n",
      "(0, 3, 2, 4, 1)\t10\t7\n",
      "(0, 3, 4, 1, 2)\t9\t5\n",
      "(0, 3, 4, 2, 1)\t10\t6\n",
      "(0, 4, 1, 2, 3)\t7\t6\n",
      "(0, 4, 1, 3, 2)\t9\t4\n",
      "(0, 4, 2, 1, 3)\t9\t8\n",
      "(0, 4, 2, 3, 1)\t10\t6\n",
      "(0, 4, 3, 1, 2)\t9\t7\n",
      "(0, 4, 3, 2, 1)\t10\t5\n",
      "(1, 0, 2, 3, 4)\t7\t9\n",
      "(1, 0, 2, 4, 3)\t7\t7\n",
      "(1, 0, 3, 2, 4)\t7\t8\n",
      "(1, 0, 3, 4, 2)\t9\t6\n",
      "(1, 0, 4, 2, 3)\t7\t7\n",
      "(1, 0, 4, 3, 2)\t9\t5\n",
      "(1, 2, 0, 3, 4)\t9\t7\n",
      "(1, 2, 0, 4, 3)\t9\t8\n",
      "(1, 2, 3, 0, 4)\t10\t6\n",
      "(1, 2, 3, 4, 0)\t10\t7\n",
      "(1, 2, 4, 0, 3)\t10\t5\n",
      "(1, 2, 4, 3, 0)\t10\t6\n",
      "(1, 3, 0, 2, 4)\t9\t8\n",
      "(1, 3, 0, 4, 2)\t9\t6\n",
      "(1, 3, 2, 0, 4)\t10\t7\n",
      "(1, 3, 2, 4, 0)\t10\t8\n",
      "(1, 3, 4, 0, 2)\t10\t4\n",
      "(1, 3, 4, 2, 0)\t10\t5\n",
      "(1, 4, 0, 2, 3)\t9\t7\n",
      "(1, 4, 0, 3, 2)\t9\t5\n",
      "(1, 4, 2, 0, 3)\t10\t6\n",
      "(1, 4, 2, 3, 0)\t10\t7\n",
      "(1, 4, 3, 0, 2)\t10\t5\n",
      "(1, 4, 3, 2, 0)\t10\t6\n",
      "(2, 0, 1, 3, 4)\t7\t7\n",
      "(2, 0, 1, 4, 3)\t7\t5\n",
      "(2, 0, 3, 1, 4)\t9\t7\n",
      "(2, 0, 3, 4, 1)\t10\t5\n",
      "(2, 0, 4, 1, 3)\t9\t9\n",
      "(2, 0, 4, 3, 1)\t10\t7\n",
      "(2, 1, 0, 3, 4)\t9\t8\n",
      "(2, 1, 0, 4, 3)\t9\t6\n",
      "(2, 1, 3, 0, 4)\t10\t5\n",
      "(2, 1, 3, 4, 0)\t10\t6\n",
      "(2, 1, 4, 0, 3)\t10\t7\n",
      "(2, 1, 4, 3, 0)\t10\t8\n",
      "(2, 3, 0, 1, 4)\t9\t6\n",
      "(2, 3, 0, 4, 1)\t10\t7\n",
      "(2, 3, 1, 0, 4)\t10\t5\n",
      "(2, 3, 1, 4, 0)\t10\t6\n",
      "(2, 3, 4, 0, 1)\t10\t6\n",
      "(2, 3, 4, 1, 0)\t10\t7\n",
      "(2, 4, 0, 1, 3)\t9\t5\n",
      "(2, 4, 0, 3, 1)\t10\t6\n",
      "(2, 4, 1, 0, 3)\t10\t4\n",
      "(2, 4, 1, 3, 0)\t10\t5\n",
      "(2, 4, 3, 0, 1)\t10\t4\n",
      "(2, 4, 3, 1, 0)\t10\t5\n",
      "(3, 0, 1, 2, 4)\t7\t6\n",
      "(3, 0, 1, 4, 2)\t9\t4\n",
      "(3, 0, 2, 1, 4)\t9\t8\n",
      "(3, 0, 2, 4, 1)\t10\t6\n",
      "(3, 0, 4, 1, 2)\t9\t7\n",
      "(3, 0, 4, 2, 1)\t10\t5\n",
      "(3, 1, 0, 2, 4)\t9\t7\n",
      "(3, 1, 0, 4, 2)\t9\t5\n",
      "(3, 1, 2, 0, 4)\t10\t6\n",
      "(3, 1, 2, 4, 0)\t10\t7\n",
      "(3, 1, 4, 0, 2)\t10\t5\n",
      "(3, 1, 4, 2, 0)\t10\t6\n",
      "(3, 2, 0, 1, 4)\t9\t5\n",
      "(3, 2, 0, 4, 1)\t10\t6\n",
      "(3, 2, 1, 0, 4)\t10\t4\n",
      "(3, 2, 1, 4, 0)\t10\t5\n",
      "(3, 2, 4, 0, 1)\t10\t4\n",
      "(3, 2, 4, 1, 0)\t10\t5\n",
      "(3, 4, 0, 1, 2)\t9\t4\n",
      "(3, 4, 0, 2, 1)\t10\t5\n",
      "(3, 4, 1, 0, 2)\t10\t3\n",
      "(3, 4, 1, 2, 0)\t10\t4\n",
      "(3, 4, 2, 0, 1)\t10\t5\n",
      "(3, 4, 2, 1, 0)\t10\t6\n",
      "(4, 0, 1, 2, 3)\t7\t5\n",
      "(4, 0, 1, 3, 2)\t9\t3\n",
      "(4, 0, 2, 1, 3)\t9\t7\n",
      "(4, 0, 2, 3, 1)\t10\t5\n",
      "(4, 0, 3, 1, 2)\t9\t6\n",
      "(4, 0, 3, 2, 1)\t10\t4\n",
      "(4, 1, 0, 2, 3)\t9\t6\n",
      "(4, 1, 0, 3, 2)\t9\t4\n",
      "(4, 1, 2, 0, 3)\t10\t5\n",
      "(4, 1, 2, 3, 0)\t10\t6\n",
      "(4, 1, 3, 0, 2)\t10\t4\n",
      "(4, 1, 3, 2, 0)\t10\t5\n",
      "(4, 2, 0, 1, 3)\t9\t4\n",
      "(4, 2, 0, 3, 1)\t10\t5\n",
      "(4, 2, 1, 0, 3)\t10\t3\n",
      "(4, 2, 1, 3, 0)\t10\t4\n",
      "(4, 2, 3, 0, 1)\t10\t3\n",
      "(4, 2, 3, 1, 0)\t10\t4\n",
      "(4, 3, 0, 1, 2)\t9\t3\n",
      "(4, 3, 0, 2, 1)\t10\t4\n",
      "(4, 3, 1, 0, 2)\t10\t2\n",
      "(4, 3, 1, 2, 0)\t10\t3\n",
      "(4, 3, 2, 0, 1)\t10\t4\n",
      "(4, 3, 2, 1, 0)\t10\t5\n"
     ]
    }
   ],
   "source": [
    "# A module full of combinatorial functions.\n",
    "import itertools\n",
    "\n",
    "# Length of example list.\n",
    "n=5\n",
    "\n",
    "# Loop through all permutations of the list of integers from 0 to n\n",
    "for perm in itertools.permutations(range(n)):\n",
    "    L = list(perm)\n",
    "    bubb_comp = bubble_sort(L)\n",
    "    L = list(perm)\n",
    "    heap_comp = heapsort(L)\n",
    "    print(f'{perm}\\t{bubb_comp}\\t{heap_comp}')"
   ]
  },
  {
   "cell_type": "code",
   "execution_count": null,
   "id": "108656b6",
   "metadata": {},
   "outputs": [],
   "source": []
  },
  {
   "cell_type": "code",
   "execution_count": null,
   "id": "a7a48bdf",
   "metadata": {},
   "outputs": [],
   "source": []
  },
  {
   "cell_type": "code",
   "execution_count": null,
   "id": "ae2ffec4",
   "metadata": {},
   "outputs": [],
   "source": []
  },
  {
   "cell_type": "code",
   "execution_count": null,
   "id": "96b24c73",
   "metadata": {},
   "outputs": [],
   "source": []
  }
 ],
 "metadata": {
  "kernelspec": {
   "display_name": "Python 3 (ipykernel)",
   "language": "python",
   "name": "python3"
  },
  "language_info": {
   "codemirror_mode": {
    "name": "ipython",
    "version": 3
   },
   "file_extension": ".py",
   "mimetype": "text/x-python",
   "name": "python",
   "nbconvert_exporter": "python",
   "pygments_lexer": "ipython3",
   "version": "3.9.7"
  }
 },
 "nbformat": 4,
 "nbformat_minor": 5
}
